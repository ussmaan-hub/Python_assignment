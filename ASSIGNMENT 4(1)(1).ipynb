{
 "cells": [
  {
   "cell_type": "code",
   "execution_count": 2,
   "metadata": {},
   "outputs": [
    {
     "name": "stdout",
     "output_type": "stream",
     "text": [
      "dict['FirstName']:  Ali\n",
      "dict['LastName']:  Khan\n",
      "dict['Age']:  21\n",
      "dict['City']:  Karachi\n",
      "dict['Qualification']  Higher Acedamic\n"
     ]
    }
   ],
   "source": [
    "dict = {'FirstName': 'Ali','LastName':'Khan','Age': 21, 'City': 'Karachi', \n",
    "       }\n",
    "\n",
    "dict['Qualification']='Intermediate'\n",
    "\n",
    "print (\"dict['FirstName']: \", dict['FirstName'])\n",
    "print (\"dict['LastName']: \", dict['LastName'])\n",
    "print (\"dict['Age']: \", dict['Age'])\n",
    "print (\"dict['City']: \",dict['City'])\n",
    "\n",
    "dict['Qualification']='Higher Acedamic'\n",
    "print (\"dict['Qualification'] \",dict['Qualification'])\n",
    "#del dict['Qualification']\n"
   ]
  },
  {
   "cell_type": "code",
   "execution_count": 4,
   "metadata": {},
   "outputs": [
    {
     "name": "stdout",
     "output_type": "stream",
     "text": [
      "Pakistan\n",
      "14.91 million\n",
      "It is the Sixth largest city in the world by city population\n",
      "spain\n",
      "6.55 million\n",
      "It Has a Unique Symbol/ Coat of Arms\n",
      "spain\n",
      "5.515 million\n",
      "is one of the world’s major cities where smoking cannabis is lega\n"
     ]
    }
   ],
   "source": [
    "Cities = {\n",
    "         'karachi': {  'Country': 'Pakistan', 'Population':'14.91 million', 'Fact':'It is the Sixth largest city in the world by city population'},\n",
    "         \n",
    "         'madrid':  { 'Country':'spain',  'Population':'6.55 million','Fact':'It Has a Unique Symbol/ Coat of Arms' },\n",
    "         \n",
    "         'barcelona': { 'Country': 'spain', 'Population':'5.515 million', 'Fact':'is one of the world’s major cities where smoking cannabis is lega'  }\n",
    "         \n",
    "         }\n",
    "\n",
    "\n",
    "print (Cities['karachi']['Country'])\n",
    "print (Cities['karachi']['Population'])\n",
    "print (Cities['karachi']['Fact'])\n",
    "\n",
    "print (Cities['madrid']['Country'])\n",
    "print (Cities['madrid']['Population'])\n",
    "print (Cities['madrid']['Fact'])\n",
    "\n",
    "\n",
    "print (Cities['barcelona']['Country'])\n",
    "print (Cities['barcelona']['Population'])\n",
    "print (Cities['barcelona']['Fact'])\n",
    "\n",
    "\n"
   ]
  },
  {
   "cell_type": "code",
   "execution_count": 51,
   "metadata": {},
   "outputs": [
    {
     "name": "stdout",
     "output_type": "stream",
     "text": [
      "6\n",
      "TICKET FEES IS 10$\n",
      "13\n",
      "TICKET FEES IS 15$\n"
     ]
    }
   ],
   "source": [
    "i=0\n",
    "while i<2:\n",
    "    age=eval(input())\n",
    "    if age<3:\n",
    "        print(\"TICKET IS FREE\")\n",
    "    elif age>3 and age<12:\n",
    "        print(\"TICKET FEES IS 10$\")\n",
    "    elif age>12:\n",
    "        print(\"TICKET FEES IS 15$\")\n",
    "    i=i+1"
   ]
  },
  {
   "cell_type": "code",
   "execution_count": 61,
   "metadata": {},
   "outputs": [
    {
     "name": "stdout",
     "output_type": "stream",
     "text": [
      "One of my favorite book is harry potter\n",
      "TITLE:  Harry Potter\n"
     ]
    }
   ],
   "source": [
    "def favorite_book(title):\n",
    "    print(\"One of my favorite book is harry potter\")\n",
    "    print(\"TITLE: \",title)\n",
    "    \n",
    "favorite_book(\"Harry Potter\")"
   ]
  },
  {
   "cell_type": "code",
   "execution_count": 78,
   "metadata": {},
   "outputs": [
    {
     "name": "stdout",
     "output_type": "stream",
     "text": [
      "GUESS THE NUMBER\n",
      "16\n",
      "GUESS is high \n",
      "GUESS THE NUMBER\n",
      "9\n",
      "got right\n",
      "GUESS THE NUMBER\n",
      "19\n",
      "GUESS is high \n"
     ]
    }
   ],
   "source": [
    "import random\n",
    "i=0\n",
    "while i<3:\n",
    "    print(\"GUESS THE NUMBER\")\n",
    "    number1=eval(input())\n",
    "    number = random.randint(1, 30)\n",
    "    if number1 > number:\n",
    "        print(\"GUESS is high \")\n",
    "    elif number1<number:\n",
    "        print(\"GUESS is low \")\n",
    "    elif number==number1:\n",
    "        print(\"got right\") \n",
    "    i=i+1\n"
   ]
  },
  {
   "cell_type": "code",
   "execution_count": null,
   "metadata": {},
   "outputs": [],
   "source": []
  }
 ],
 "metadata": {
  "kernelspec": {
   "display_name": "Python 3",
   "language": "python",
   "name": "python3"
  },
  "language_info": {
   "codemirror_mode": {
    "name": "ipython",
    "version": 3
   },
   "file_extension": ".py",
   "mimetype": "text/x-python",
   "name": "python",
   "nbconvert_exporter": "python",
   "pygments_lexer": "ipython3",
   "version": "3.7.4"
  }
 },
 "nbformat": 4,
 "nbformat_minor": 2
}
