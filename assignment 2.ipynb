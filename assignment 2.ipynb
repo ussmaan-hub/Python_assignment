{
 "cells": [
  {
   "cell_type": "code",
   "execution_count": 5,
   "metadata": {},
   "outputs": [
    {
     "name": "stdout",
     "output_type": "stream",
     "text": [
      "Enter marks of the first subject: 100\n",
      "Enter marks of the second subject: 100\n",
      "Enter marks of the third subject: 100\n",
      "Enter marks of the fourth subject: 100\n",
      "Enter marks of the fifth subject: 100\n",
      "Grade: A\n"
     ]
    }
   ],
   "source": [
    "sub1=eval(input(\"Enter marks of the first subject: \"))\n",
    "sub2=eval(input(\"Enter marks of the second subject: \"))\n",
    "sub3=eval(input(\"Enter marks of the third subject: \"))\n",
    "sub4=eval(input(\"Enter marks of the fourth subject: \"))\n",
    "sub5=eval(input(\"Enter marks of the fifth subject: \"))\n",
    "avg=(sub1+sub2+sub3+sub4+sub4)/5\n",
    "if(avg>=90):\n",
    "    print(\"Grade: A\")\n",
    "elif(avg>=80 &avg<90):\n",
    "    print(\"Grade: B\")\n",
    "elif(avg>=70&avg<80):\n",
    "    print(\"Grade: C\")\n",
    "elif(avg>=60&avg<70):\n",
    "    print(\"Grade: D\")\n",
    "else:\n",
    "    print(\"Grade: F\")"
   ]
  },
  {
   "cell_type": "code",
   "execution_count": 8,
   "metadata": {},
   "outputs": [
    {
     "name": "stdout",
     "output_type": "stream",
     "text": [
      "enter the number: 5\n",
      "its is odd\n"
     ]
    }
   ],
   "source": [
    "value = eval(input(\"enter the number: \"))\n",
    "if(value%2==0):\n",
    "    print(\"it is even\")\n",
    "else:\n",
    "    print(\"its is odd\")"
   ]
  },
  {
   "cell_type": "code",
   "execution_count": 16,
   "metadata": {},
   "outputs": [
    {
     "name": "stdout",
     "output_type": "stream",
     "text": [
      "the length is  3\n"
     ]
    }
   ],
   "source": [
    " thislist = [\"apple\", \"banana\", \"mango\"]\n",
    "n = len(thislist)\n",
    "print(\"the length is \",n);"
   ]
  },
  {
   "cell_type": "code",
   "execution_count": 17,
   "metadata": {},
   "outputs": [
    {
     "name": "stdout",
     "output_type": "stream",
     "text": [
      "-5\n"
     ]
    }
   ],
   "source": [
    "def sum_list(items):\n",
    "    sum_numbers = 0\n",
    "    for x in items:\n",
    "        sum_numbers += x\n",
    "    return sum_numbers\n",
    "print(sum_list([1,2,-8]))"
   ]
  },
  {
   "cell_type": "code",
   "execution_count": 19,
   "metadata": {},
   "outputs": [
    {
     "name": "stdout",
     "output_type": "stream",
     "text": [
      "2\n"
     ]
    }
   ],
   "source": [
    "def max_num_in_list( list ):\n",
    "    max = list[0]\n",
    "    for a in list:\n",
    "        if a > max:\n",
    "            max = a\n",
    "    return max\n",
    "print(max_num_in_list([1, 2, -8, 0]))"
   ]
  },
  {
   "cell_type": "code",
   "execution_count": 34,
   "metadata": {},
   "outputs": [
    {
     "name": "stdout",
     "output_type": "stream",
     "text": [
      "1\n",
      "1\n",
      "2\n",
      "3\n",
      "4\n"
     ]
    }
   ],
   "source": [
    "a = [1,1,2,3,4,8,13,21,34,55,89]\n",
    "\n",
    "def print_less_than_five():\n",
    "    for i in range(len(a)):\n",
    "        if a[i]<5: #checking if the element is less than 5\n",
    "            print(a[i]) #printing\n",
    "\n",
    "print_less_than_five()"
   ]
  }
 ],
 "metadata": {
  "kernelspec": {
   "display_name": "Python 3",
   "language": "python",
   "name": "python3"
  },
  "language_info": {
   "codemirror_mode": {
    "name": "ipython",
    "version": 3
   },
   "file_extension": ".py",
   "mimetype": "text/x-python",
   "name": "python",
   "nbconvert_exporter": "python",
   "pygments_lexer": "ipython3",
   "version": "3.7.4"
  }
 },
 "nbformat": 4,
 "nbformat_minor": 2
}
